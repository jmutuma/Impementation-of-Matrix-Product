{
 "cells": [
  {
   "cell_type": "markdown",
   "id": "2b43536e",
   "metadata": {},
   "source": [
    "# Problem 1:\n",
    "Calculate matrix product manually.\n",
    "A = [-1, 2 ,3]   B = [0, 2, 1]\n",
    "    [ 4 ,-5, 6 ]     [0, 2, -8]\n",
    "     [7, 8, -9]      [2, 9, -1]\n",
    "\n",
    "\n",
    "\n",
    "Solve the multiplication of matrix (A x B) manually\n",
    "1. To calculate the first element of 1st row, we multiply and add the elements of the 1st row of A = A[0,:] with 1st column of B = B[:,0]\n",
    "(-1,2,3).(0,0,2) = (-1*0) + (2*0) + (3*2) = 6\n",
    "2. To calculate second element of 1st row A[0,:] * B[:,1]\n",
    "(-1,2,3).(2,2,9) = (-1*2) + (2*2) + (3*9) = 29\n",
    "3. To calculate third element of 1st row A[0,:] * B[:,2]\n",
    "(-1,2,3).(1,-8,-1) = (-1*1) +(2*-8) + (3*-1) = -20\n",
    "4. We do the same for other rows: Row2\n",
    "(4,-5,6).(0,0,2) = (4*0) + (-5*0) +(6*2) = 12\n",
    "(4,-5,6).(2,2,9) = (4*2) + (-5*2) + (6*9) = 52\n",
    "(4,-5,6).(1,-8,-1) = (4*1) + (-5*-8) + (6*-1)= 38\n",
    "5. Row 3\n",
    "(7,8,-9).(0,0,2) = (7*0) + (8*0) + (-9*2) = -18\n",
    "(7,8,-9).(2,2,9) = (7*2) + (8*2) + (-9*9) = -51\n",
    "(7,8,-9).(1,-8,-1) = (7*1) + (8*-8) + (-9*-1) = -48\n",
    "\n",
    "Answer: [6, 29, -20]\n",
    "        [12, 52, 38]\n",
    "        [-18,-51,-48]\n"
   ]
  },
  {
   "cell_type": "markdown",
   "id": "f80695b9",
   "metadata": {},
   "source": [
    "# Problem 2:\n",
    "Calculation with Numpy functions"
   ]
  },
  {
   "cell_type": "code",
   "execution_count": 1,
   "id": "ddcdd744",
   "metadata": {},
   "outputs": [
    {
     "data": {
      "text/plain": [
       "array([[  6,  29, -20],\n",
       "       [ 12,  52,  38],\n",
       "       [-18, -51, -48]])"
      ]
     },
     "execution_count": 1,
     "metadata": {},
     "output_type": "execute_result"
    }
   ],
   "source": [
    "#using np.matmul()\n",
    "import numpy as np\n",
    "a = np.array([[-1,2,3],[4,-5,6],[7,8,-9]])\n",
    "b = np.array([[0,2,1],[0,2,-8],[2,9,-1]])\n",
    "np.matmul(a,b)"
   ]
  },
  {
   "cell_type": "code",
   "execution_count": 2,
   "id": "ae9105e7",
   "metadata": {},
   "outputs": [
    {
     "data": {
      "text/plain": [
       "array([[  6,  29, -20],\n",
       "       [ 12,  52,  38],\n",
       "       [-18, -51, -48]])"
      ]
     },
     "execution_count": 2,
     "metadata": {},
     "output_type": "execute_result"
    }
   ],
   "source": [
    "#using np.dot()\n",
    "import numpy as np\n",
    "a = np.array([[-1,2,3],[4,-5,6],[7,8,-9]])\n",
    "b = np.array([[0,2,1],[0,2,-8],[2,9,-1]])\n",
    "np.dot(a,b)"
   ]
  },
  {
   "cell_type": "markdown",
   "id": "291ac94f",
   "metadata": {},
   "source": [
    "# Problem 3:\n",
    "Scratch implementation of matrix multiplication of matrix A and B"
   ]
  },
  {
   "cell_type": "code",
   "execution_count": 13,
   "id": "b2cbe695",
   "metadata": {},
   "outputs": [
    {
     "data": {
      "text/plain": [
       "array([[  6,  29, -20],\n",
       "       [ 12,  52,  38],\n",
       "       [-18, -51, -48]])"
      ]
     },
     "execution_count": 13,
     "metadata": {},
     "output_type": "execute_result"
    }
   ],
   "source": [
    "a = np.array([[-1,2,3],[4,-5,6],[7,8,-9]])\n",
    "b = np.array([[0,2,1],[0,2,-8],[2,9,-1]])\n",
    "\n",
    "ab_list= [[((a[0,0]*b[0,0]) + (a[0,1]*b[1,0]) + (a[0,2]*b[2,0])),\n",
    " ((a[0,0]*b[0,1]) + (a[0,1]*b[1,1]) + (a[0,2]*b[2,1])),\n",
    " ((a[0,0]*b[0,2]) + (a[0,1]*b[1,2]) + (a[0,2]*b[2,2]))],\n",
    " [((a[1,0]*b[0,0]) + (a[1,1]*b[1,0]) + (a[1,2]*b[2,0])),\n",
    " ((a[1,0]*b[0,1]) + (a[1,1]*b[1,1]) + (a[1,2]*b[2,1])),\n",
    "((a[1,0]*b[0,2]) + (a[1,1]*b[1,2]) + (a[1,2]*b[2,2]))],\n",
    "[((a[2,0]*b[0,0]) + (a[2,1]*b[1,0]) + (a[2,2]*b[2,0])),\n",
    "((a[2,0]*b[0,1]) + (a[2,1]*b[1,1]) + (a[2,2]*b[2,1])),\n",
    "((a[2,0]*b[0,2]) + (a[2,1]*b[1,2]) + (a[2,2]*b[2,2]))]]\n",
    "\n",
    "ab = np.array(ab_list)\n",
    "ab"
   ]
  },
  {
   "cell_type": "code",
   "execution_count": 14,
   "id": "2cba3ae4",
   "metadata": {},
   "outputs": [
    {
     "name": "stdout",
     "output_type": "stream",
     "text": [
      "[6, 29, -20]\n",
      "[12, 52, 38]\n",
      "[-18, -51, -48]\n"
     ]
    }
   ],
   "source": [
    "#Another way to calculate problem 3\n",
    "a = [[-1,2,3],[4,-5,6],[7,8,-9]]\n",
    "b = [[0,2,1],[0,2,-8],[2,9,-1]]\n",
    "ab_list = []\n",
    "\n",
    "for i_row in range(0,3):\n",
    "    temp_list = []\n",
    "    for j in range(0,3):\n",
    "        sum_ab = 0\n",
    "        for k_col in range(0,3):\n",
    "            sum_ab = sum_ab + (a[i_row][k_col]*b[k_col][j])\n",
    "        temp_list.append(sum_ab)\n",
    "    ab_list.append(temp_list)\n",
    "for row in ab_list:\n",
    "    print(row)"
   ]
  },
  {
   "cell_type": "markdown",
   "id": "a28d70cb",
   "metadata": {},
   "source": [
    "# Problem 4:\n",
    "Creating a function that performs matrix multiplication. It receives matrices A and B as arguments and returns the matrix product."
   ]
  },
  {
   "cell_type": "code",
   "execution_count": 24,
   "id": "8759ddff",
   "metadata": {},
   "outputs": [
    {
     "name": "stdout",
     "output_type": "stream",
     "text": [
      "[90, 100, 110, 120]\n",
      "[202, 228, 254, 280]\n",
      "[314, 356, 398, 440]\n",
      "[426, 484, 542, 600]\n"
     ]
    }
   ],
   "source": [
    "def matrix_multiplier(a,b):\n",
    "    d = np.array(a) # converts a to np array so as to get no. of rows\n",
    "    e = np.array(b) # converts b to np array so as to get no. of columns\n",
    "    rows = len(d[:,0]) # get no. of rows\n",
    "    columns = len(e[0,:]) # get no. of columns\n",
    "    ab_list = [] # create an empty list to hold the new matrix\n",
    "    for i_row in range(0,rows):\n",
    "        temp_list = []  \n",
    "        for j in range(0,rows):\n",
    "            sum_ab = 0 \n",
    "            for k_col in range(0,columns):\n",
    "                sum_ab = sum_ab + (a[i_row][k_col]*b[k_col][j])\n",
    "            temp_list.append(sum_ab) # temporary list to hold elements of matrix\n",
    "        ab_list.append(temp_list) # append the elements to matrix\n",
    "    for row in ab_list:\n",
    "        print(row)\n",
    "        \n",
    "matrix_multiplier(([[1,2,3,4],[5,6,7,8],[9,10,11,12],[13,14,15,16]]),([[1,2,3,4],[5,6,7,8],[9,10,11,12],[13,14,15,16]]))"
   ]
  },
  {
   "cell_type": "markdown",
   "id": "d8c6c1bc",
   "metadata": {},
   "source": [
    "# Problem 5:\n",
    "Judge the input whose calculation is not defined\n",
    "If using our function above in problem 4 we multiply 2 matrices that are not defined."
   ]
  },
  {
   "cell_type": "code",
   "execution_count": 25,
   "id": "3da85533",
   "metadata": {},
   "outputs": [
    {
     "ename": "IndexError",
     "evalue": "list index out of range",
     "output_type": "error",
     "traceback": [
      "\u001b[1;31m---------------------------------------------------------------------------\u001b[0m",
      "\u001b[1;31mIndexError\u001b[0m                                Traceback (most recent call last)",
      "Cell \u001b[1;32mIn [25], line 18\u001b[0m\n\u001b[0;32m     15\u001b[0m     \u001b[38;5;28;01mfor\u001b[39;00m row \u001b[38;5;129;01min\u001b[39;00m ab_list:\n\u001b[0;32m     16\u001b[0m         \u001b[38;5;28mprint\u001b[39m(row)\n\u001b[1;32m---> 18\u001b[0m \u001b[43mmatrix_multiplier\u001b[49m\u001b[43m(\u001b[49m\u001b[43m[\u001b[49m\u001b[43m[\u001b[49m\u001b[38;5;241;43m-\u001b[39;49m\u001b[38;5;241;43m1\u001b[39;49m\u001b[43m,\u001b[49m\u001b[38;5;241;43m2\u001b[39;49m\u001b[43m,\u001b[49m\u001b[38;5;241;43m3\u001b[39;49m\u001b[43m]\u001b[49m\u001b[43m,\u001b[49m\u001b[43m[\u001b[49m\u001b[38;5;241;43m4\u001b[39;49m\u001b[43m,\u001b[49m\u001b[38;5;241;43m-\u001b[39;49m\u001b[38;5;241;43m5\u001b[39;49m\u001b[43m,\u001b[49m\u001b[38;5;241;43m6\u001b[39;49m\u001b[43m]\u001b[49m\u001b[43m]\u001b[49m\u001b[43m,\u001b[49m\u001b[43m[\u001b[49m\u001b[43m[\u001b[49m\u001b[38;5;241;43m-\u001b[39;49m\u001b[38;5;241;43m9\u001b[39;49m\u001b[43m,\u001b[49m\u001b[38;5;241;43m8\u001b[39;49m\u001b[43m,\u001b[49m\u001b[38;5;241;43m7\u001b[39;49m\u001b[43m]\u001b[49m\u001b[43m,\u001b[49m\u001b[43m[\u001b[49m\u001b[38;5;241;43m6\u001b[39;49m\u001b[43m,\u001b[49m\u001b[38;5;241;43m-\u001b[39;49m\u001b[38;5;241;43m5\u001b[39;49m\u001b[43m,\u001b[49m\u001b[38;5;241;43m4\u001b[39;49m\u001b[43m]\u001b[49m\u001b[43m]\u001b[49m\u001b[43m)\u001b[49m\n",
      "Cell \u001b[1;32mIn [25], line 12\u001b[0m, in \u001b[0;36mmatrix_multiplier\u001b[1;34m(a, b)\u001b[0m\n\u001b[0;32m     10\u001b[0m     sum_ab \u001b[38;5;241m=\u001b[39m \u001b[38;5;241m0\u001b[39m \n\u001b[0;32m     11\u001b[0m     \u001b[38;5;28;01mfor\u001b[39;00m k_col \u001b[38;5;129;01min\u001b[39;00m \u001b[38;5;28mrange\u001b[39m(\u001b[38;5;241m0\u001b[39m,columns):\n\u001b[1;32m---> 12\u001b[0m         sum_ab \u001b[38;5;241m=\u001b[39m sum_ab \u001b[38;5;241m+\u001b[39m (a[i_row][k_col]\u001b[38;5;241m*\u001b[39m\u001b[43mb\u001b[49m\u001b[43m[\u001b[49m\u001b[43mk_col\u001b[49m\u001b[43m]\u001b[49m[j])\n\u001b[0;32m     13\u001b[0m     temp_list\u001b[38;5;241m.\u001b[39mappend(sum_ab) \u001b[38;5;66;03m# temporary list to hold elements of matrix\u001b[39;00m\n\u001b[0;32m     14\u001b[0m ab_list\u001b[38;5;241m.\u001b[39mappend(temp_list) \u001b[38;5;66;03m# append the elements to matrix\u001b[39;00m\n",
      "\u001b[1;31mIndexError\u001b[0m: list index out of range"
     ]
    }
   ],
   "source": [
    "def matrix_multiplier(a,b):\n",
    "    d = np.array(a) # converts a to np array so as to get no. of rows\n",
    "    e = np.array(b) # converts b to np array so as to get no. of columns\n",
    "    rows = len(d[:,0]) # get no. of rows\n",
    "    columns = len(e[0,:]) # get no. of columns\n",
    "    ab_list = [] # create an empty list to hold the new matrix\n",
    "    for i_row in range(0,rows):\n",
    "        temp_list = []  \n",
    "        for j in range(0,rows):\n",
    "            sum_ab = 0 \n",
    "            for k_col in range(0,columns):\n",
    "                sum_ab = sum_ab + (a[i_row][k_col]*b[k_col][j])\n",
    "            temp_list.append(sum_ab) # temporary list to hold elements of matrix\n",
    "        ab_list.append(temp_list) # append the elements to matrix\n",
    "    for row in ab_list:\n",
    "        print(row)\n",
    "        \n",
    "matrix_multiplier([[-1,2,3],[4,-5,6]],[[-9,8,7],[6,-5,4]])"
   ]
  },
  {
   "cell_type": "markdown",
   "id": "98c1d704",
   "metadata": {},
   "source": [
    "Following multiplication of 2 undefined matrices an error occurs and we get a message index out of range which might be hard to understand ,to solve this: We use if statement, if number of rows and columns are not equal then a message is printed out indicating an error."
   ]
  },
  {
   "cell_type": "code",
   "execution_count": 31,
   "id": "a82bcd59",
   "metadata": {},
   "outputs": [
    {
     "name": "stdout",
     "output_type": "stream",
     "text": [
      "The matrix product is not defined, so it cannot be calculated!\n"
     ]
    }
   ],
   "source": [
    "def matrix_multiplier(a,b):\n",
    "    d = np.array(a) # converts a to np array so as to get no. of rows\n",
    "    e = np.array(b) # converts b to np array so as to get no. of columns\n",
    "    rows = len(d[:,0]) # get no. of rows\n",
    "    columns = len(e[0,:]) # get no. of columns\n",
    "    if (rows == columns):\n",
    "        ab_list = [] # create an empty list to hold the new matrix\n",
    "        for i_row in range(0,rows):\n",
    "            temp_list = []  \n",
    "            for j in range(0,rows):\n",
    "                sum_ab = 0 \n",
    "                for k_col in range(0,columns):\n",
    "                    sum_ab = sum_ab + (a[i_row][k_col]*b[k_col][j])\n",
    "                temp_list.append(sum_ab) # temporary list to hold elements of matrix\n",
    "            ab_list.append(temp_list) # append the elements to matrix\n",
    "        for row in ab_list:\n",
    "            print(row)\n",
    "    else:\n",
    "        print(\"The matrix product is not defined, so it cannot be calculated!\")\n",
    "        \n",
    "matrix_multiplier([[-1,2,3],[4,-5,6]],[[-9,8,7],[6,-5,4]])"
   ]
  },
  {
   "cell_type": "markdown",
   "id": "150fe680",
   "metadata": {},
   "source": [
    "# Problem 6:\n",
    "Transposition.\n",
    "Transposing one matrix allows you to calculate the matrix product"
   ]
  },
  {
   "cell_type": "code",
   "execution_count": 34,
   "id": "cd41ac67",
   "metadata": {},
   "outputs": [
    {
     "name": "stdout",
     "output_type": "stream",
     "text": [
      "[[-9  6]\n",
      " [ 8 -5]\n",
      " [ 7  4]]\n",
      "[[-9  6]\n",
      " [ 8 -5]\n",
      " [ 7  4]]\n"
     ]
    }
   ],
   "source": [
    "#using our earlier undefined matrices\n",
    "d_ndarray = np.array([[-1, 2, 3], [4, -5, 6]])\n",
    "e_ndarray = np.array([[-9, 8, 7], [6, -5, 4]])\n",
    "#if we transpose e using np.transpose()\n",
    "print(np.transpose(e_ndarray))\n",
    "# if we transpose e using .T\n",
    "print(e_ndarray.T)"
   ]
  },
  {
   "cell_type": "markdown",
   "id": "611a05b7",
   "metadata": {},
   "source": [
    "we get similar results\n",
    "if we pass D and transposed E to our function \n"
   ]
  },
  {
   "cell_type": "code",
   "execution_count": 35,
   "id": "a6eb1473",
   "metadata": {},
   "outputs": [
    {
     "name": "stdout",
     "output_type": "stream",
     "text": [
      "[25, -16]\n",
      "[-76, 49]\n"
     ]
    }
   ],
   "source": [
    "def matrix_multiplier(a,b):\n",
    "    d = np.array(a) # converts a to np array so as to get no. of rows\n",
    "    e = np.array(b) # converts b to np array so as to get no. of columns\n",
    "    rows = len(d[:,0]) # get no. of rows\n",
    "    columns = len(e[0,:]) # get no. of columns\n",
    "    if (rows == columns):\n",
    "        ab_list = [] # create an empty list to hold the new matrix\n",
    "        for i_row in range(0,rows):\n",
    "            temp_list = []  \n",
    "            for j in range(0,rows):\n",
    "                sum_ab = 0 \n",
    "                for k_col in range(0,columns):\n",
    "                    sum_ab = sum_ab + (a[i_row][k_col]*b[k_col][j])\n",
    "                temp_list.append(sum_ab) # temporary list to hold elements of matrix\n",
    "            ab_list.append(temp_list) # append the elements to matrix\n",
    "        for row in ab_list:\n",
    "            print(row)\n",
    "    else:\n",
    "        print(\"The matrix product is not defined, so it cannot be calculated!\")\n",
    "        \n",
    "matrix_multiplier([[-1,2,3],[4,-5,6]],[[-9,6],[8,-5],[7,4]])"
   ]
  },
  {
   "cell_type": "markdown",
   "id": "6789541a",
   "metadata": {},
   "source": [
    "Since the matrix is defined after transposition we get a value."
   ]
  },
  {
   "cell_type": "code",
   "execution_count": null,
   "id": "15a4386f",
   "metadata": {},
   "outputs": [],
   "source": []
  }
 ],
 "metadata": {
  "kernelspec": {
   "display_name": "Python 3 (ipykernel)",
   "language": "python",
   "name": "python3"
  },
  "language_info": {
   "codemirror_mode": {
    "name": "ipython",
    "version": 3
   },
   "file_extension": ".py",
   "mimetype": "text/x-python",
   "name": "python",
   "nbconvert_exporter": "python",
   "pygments_lexer": "ipython3",
   "version": "3.8.10"
  }
 },
 "nbformat": 4,
 "nbformat_minor": 5
}
